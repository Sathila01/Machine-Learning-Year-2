{
 "cells": [
  {
   "cell_type": "markdown",
   "metadata": {
    "id": "QdjKAurv7A8v"
   },
   "source": [
    "# The Priori Algorythm in Python. Mining Movie Choices"
   ]
  },
  {
   "cell_type": "markdown",
   "metadata": {
    "id": "2Zd9TAmZ7A8x"
   },
   "source": [
    "Association Rules are used to identify underlying relations between different items. Take an example of a Movie Platform where customers can rent or buy movies. Usually, there is a pattern in what the customers buy. There are clear patterns, for instance the Super Hero theme, or the Kids category. \n",
    "\n",
    "More profit can be generated if the relationship between the movies can be identified.\n",
    "\n",
    "If movie A and B are frequently bought together, this pattern can be exploited to increase profit.\n",
    "\n",
    "People who buy or rent one of these two movies, can be nudged into renting or buying the other one, via campaigns or suggestions within the platform.\n",
    "\n",
    "We are today very familiar with these recommendation engines on Netflix, Amazon, to name the most prominent."
   ]
  },
  {
   "cell_type": "markdown",
   "metadata": {
    "id": "18rxc4BC7A8y"
   },
   "source": [
    "## The Apriori Algorithm"
   ]
  },
  {
   "cell_type": "markdown",
   "metadata": {
    "id": "GnZNCLDx7A8y"
   },
   "source": [
    "The Apriori Algorithm falls in the Association Rule category."
   ]
  },
  {
   "cell_type": "markdown",
   "metadata": {
    "id": "_nOi0FPN7A8y"
   },
   "source": [
    "### Theory of Apriori Algorithm"
   ]
  },
  {
   "cell_type": "markdown",
   "metadata": {
    "id": "AYfyJM-u7A8z"
   },
   "source": [
    "There are three major components of Apriori algorithm:\n",
    "\n",
    "- Support\n",
    "- Confidence\n",
    "- Lift\n",
    "\n",
    "Let's analyze each component. Before we start, we need to agree on the time window that makes business sense. In our example it could be all the movies purchased or rented by individual customers in a month or a year."
   ]
  },
  {
   "cell_type": "markdown",
   "metadata": {
    "id": "wNlTQdvJ7A8z"
   },
   "source": [
    "#### Support\n",
    "\n",
    "Support in our use case refers to the popularity of a movie, and it is calculated as the number of times a movie is watched divided by the total number of transactions.\n",
    "\n",
    "For instance if out of 100 transactions, 25 transactions contain The Avengers, the support for can be calculated as:\n",
    "\n",
    "Support(The Avengers) = (Transactions containing The Avengers)/(Total Transactions)\n",
    "\n",
    "Support(The Avengers) = 25/100 = 25%"
   ]
  },
  {
   "cell_type": "markdown",
   "metadata": {
    "id": "_6yo75hj7A8z"
   },
   "source": [
    "#### Confidence\n",
    "\n",
    "Confidence refers to the likelihood that the movie Avengers is also bought or rented if movie Thor is bought or rented. It can be calculated by finding the number of transactions where Thor and Avengers were bought together, divided by total number of transactions where Thor is bought or rented. \n",
    "\n",
    "Confidence(Thor → Avengers) = (Transactions containing both (Thor and The Avengers))/(Transactions containing Thor)\n",
    "\n",
    "If we had 10 transactions where customers watched Thor and Avengers, while in 20 transactions, Thor is purchased or rented. Then we can find likelihood of buying Avengers when a Thor is bought. \n",
    "\n",
    "Confidence(Thor → Avengers) = 10/20  \n",
    "                            = 50%"
   ]
  },
  {
   "cell_type": "markdown",
   "metadata": {
    "id": "inDGY2UQ7A8z"
   },
   "source": [
    "#### Lift\n",
    "\n",
    "Lift(Thor -> Avengers) refers to the increase in the ratio of sale of Avengers when Thor is sold. It can be calculated by dividing Confidence(Thor -> Avengers) divided by Support(Avengers). Mathematically it can be represented as:\n",
    "\n",
    "Lift(Thor → Avengers) = (Confidence (Thor → Avengers))/(Support (Avengers))  \n",
    "It can be calculated as:\n",
    "\n",
    "Lift(Burger→Ketchup) = 50%/25%  \n",
    "                     = 2\n",
    "\n",
    "Lift basically tells us that the likelihood of buying a Thor and Avengers together is 2 times more than the likelihood of just buying the Avengers.\n",
    "\n",
    "A Lift of 1 means there is no association between products. Lift of greater than 1 means that products are more likely to be bought together. Finally, Lift of less than 1 refers to the case where two products are unlikely to be bought together."
   ]
  },
  {
   "cell_type": "markdown",
   "metadata": {
    "id": "tZnQjyBu7A80"
   },
   "source": [
    "### Steps Involved in Apriori Algorithm\n",
    "\n",
    "For large sets of data, there can be hundreds of items in hundreds of thousands transactions. The Apriori algorithm tries to extract rules for each possible combination of items. For instance, Lift can be calculated for item 1 and item 2, item 1 and item 3, item 1 and item 4 and then item 2 and item 3, item 2 and item 4 and then combinations of items e.g. item 1, item 2 and item 3; similarly item 1, item2, and item 4, and so on.\n",
    "\n",
    "As you can see from the above example, this process can be extremely slow due to the number of combinations. To speed up the process, we need to perform the following steps:\n",
    "\n",
    "1. Set a minimum value for support and confidence. This means that we are only interested in finding rules for the items that have certain default existence (e.g. support) and have a minimum value for co-occurrence with other items (confidence).\n",
    "2. Extract all the subsets having higher value of support than minimum threshold.\n",
    "3. Select all the rules from the subsets with confidence value higher than minimum threshold.\n",
    "4. Order the rules by descending order of Lift."
   ]
  },
  {
   "cell_type": "markdown",
   "metadata": {
    "id": "CeEe-YFK7A80"
   },
   "source": [
    "### Implementing Apriori Algorithm with Python\n",
    "\n",
    "In this section we will use the Apriori algorithm to find rules that describe associations between different products given 7500 transactions over the course of a month. The dataset of movies is randomly picked, these are not real data. \n",
    "\n",
    "Another interesting point is that we do not need to write the script to calculate support, confidence, and lift for all the possible combination of items. We will use an off-the-shelf library where all the code has already been implemented.\n",
    "\n",
    "The library apyori. Use the following command in your environment: pip install apyori"
   ]
  },
  {
   "cell_type": "markdown",
   "metadata": {
    "id": "7g2nxObS7A80"
   },
   "source": [
    "If you are planning to embed this python code inside an Alteryx workflow (2018.3 and up) uncomment the following lines"
   ]
  },
  {
   "cell_type": "code",
   "execution_count": 16,
   "metadata": {
    "id": "6Dg_ZJIR7A80",
    "colab": {
     "base_uri": "https://localhost:8080/"
    },
    "outputId": "6fe4cbc6-20bb-4dd8-8284-c5010293d63c"
   },
   "outputs": [
    {
     "name": "stdout",
     "output_type": "stream",
     "text": [
      "Defaulting to user installation because normal site-packages is not writeable\n",
      "Requirement already satisfied: apyori in c:\\users\\ridmi\\appdata\\roaming\\python\\python39\\site-packages (1.1.2)\n"
     ]
    }
   ],
   "source": [
    "\"\"\" ALTERYX\n",
    "from ayx import Alteryx\n",
    "Alteryx.installPackages(\"apyori\")\n",
    "Alteryx.installPackages(\"numpy\")\n",
    "Alteryx.installPackages(\"pandas\")\n",
    "\"\"\"\n",
    "!pip install apyori"
   ]
  },
  {
   "cell_type": "markdown",
   "metadata": {
    "id": "hqXDsN8p7A81"
   },
   "source": [
    "#### Import the Libraries\n",
    "The first step, as always, is to import the required libraries. Execute the following script to do so:"
   ]
  },
  {
   "cell_type": "code",
   "execution_count": 17,
   "metadata": {
    "id": "cjjxHVqg7A81"
   },
   "outputs": [
    {
     "ename": "ModuleNotFoundError",
     "evalue": "No module named 'apyori'",
     "output_type": "error",
     "traceback": [
      "\u001B[1;31m---------------------------------------------------------------------------\u001B[0m",
      "\u001B[1;31mModuleNotFoundError\u001B[0m                       Traceback (most recent call last)",
      "\u001B[1;32m~\\AppData\\Local\\Temp\\ipykernel_2108\\579028614.py\u001B[0m in \u001B[0;36m<module>\u001B[1;34m\u001B[0m\n\u001B[0;32m      1\u001B[0m \u001B[1;32mimport\u001B[0m \u001B[0mpandas\u001B[0m \u001B[1;32mas\u001B[0m \u001B[0mpd\u001B[0m\u001B[1;33m\u001B[0m\u001B[1;33m\u001B[0m\u001B[0m\n\u001B[1;32m----> 2\u001B[1;33m \u001B[1;32mfrom\u001B[0m \u001B[0mapyori\u001B[0m \u001B[1;32mimport\u001B[0m \u001B[0mapriori\u001B[0m\u001B[1;33m\u001B[0m\u001B[1;33m\u001B[0m\u001B[0m\n\u001B[0m",
      "\u001B[1;31mModuleNotFoundError\u001B[0m: No module named 'apyori'"
     ]
    }
   ],
   "source": [
    "import pandas as pd\n",
    "from apyori import apriori"
   ]
  },
  {
   "cell_type": "markdown",
   "metadata": {
    "id": "w1d66r_V7A81"
   },
   "source": [
    "Importing the Dataset\n",
    "Now let's import the dataset and see what we're working with. "
   ]
  },
  {
   "cell_type": "code",
   "execution_count": null,
   "metadata": {
    "id": "WmIImTtJ7A81",
    "colab": {
     "base_uri": "https://localhost:8080/"
    },
    "outputId": "3c75f481-63db-4d18-af9f-791aa734b0f0"
   },
   "outputs": [],
   "source": [
    "# Task 1: Import the dataset and print the number of records\n",
    "movie_data = pd.read_csv('movie_dataset.csv', header = None)\n",
    "num_records = len(movie_data)\n",
    "print(num_records)"
   ]
  },
  {
   "cell_type": "markdown",
   "metadata": {
    "id": "VyLvKjaY7A81"
   },
   "source": [
    "Use the following script if you are reading data inside an Alteryx workflow "
   ]
  },
  {
   "cell_type": "code",
   "execution_count": null,
   "metadata": {
    "id": "K9IiC7gW7A82"
   },
   "outputs": [],
   "source": [
    "\"\"\" ALTERYX\n",
    "title_data = Alteryx.read(\"#1\")\n",
    "\"\"\""
   ]
  },
  {
   "cell_type": "markdown",
   "metadata": {
    "id": "Iv0Jk5sE7A82"
   },
   "source": [
    "Now we will use the Apriori algorithm to find out which items are commonly sold together, so that store owner can take action to place the related items together or advertise them together in order to have increased profit."
   ]
  },
  {
   "cell_type": "markdown",
   "metadata": {
    "id": "Hf5JisuW7A82"
   },
   "source": [
    "#### Data Proprocessing\n",
    "\n",
    "The Apriori library we are going to use requires our dataset to be in the form of a list of lists, where the whole dataset is a big list and each transaction in the dataset is an inner list within the outer big list. Currently we have data in the form of a pandas dataframe. To convert our pandas dataframe into a list of lists, execute the following script:"
   ]
  },
  {
   "cell_type": "code",
   "execution_count": null,
   "metadata": {
    "id": "fSKw_4w47A82"
   },
   "outputs": [],
   "source": [
    "records = []  \n",
    "for i in range(0, num_records):  \n",
    "    records.append([str(movie_data.values[i,j]) for j in range(0, 20)])"
   ]
  },
  {
   "cell_type": "markdown",
   "metadata": {
    "id": "jPt3DagE7A82"
   },
   "source": [
    "#### Applying Apriori\n",
    "\n",
    "We can now specify the parameters of the apriori class.\n",
    "\n",
    "- The List\n",
    "- min_support\n",
    "- min_confidence\n",
    "- min_lift\n",
    "- min_length (the minimum number of items that you want in your rules, typically 2)\n",
    "\n",
    "Let's suppose that we want only movies that are purchased at least 40 times in a month. The support for those items can be calculated as 40/7500 = 0.0053. The minimum confidence for the rules is 20% or 0.2. Similarly, we specify the value for lift as 3 and finally min_length is 2 since we want at least two products in our rules. These values are mostly just arbitrarily chosen, and they need to be fine-tuned empirically.\n"
   ]
  },
  {
   "cell_type": "code",
   "execution_count": null,
   "metadata": {
    "id": "8itxaZRH7A82"
   },
   "outputs": [],
   "source": [
    "# Task 2: Considering the above explanation, define the association rules and convert the rules found by the apriori class into a list\n",
    "association_rules = apriori(records, min_support=0.0053, min_confidence=0.2, min_lift=3,min_length=2)\n",
    "association_results = list(association_rules)"
   ]
  },
  {
   "cell_type": "markdown",
   "metadata": {
    "id": "w5vUEsNP7A82"
   },
   "source": [
    "\n",
    "Viewing the Results\n",
    "Let's first find the total number of rules mined by the apriori class. Execute the following script:"
   ]
  },
  {
   "cell_type": "code",
   "execution_count": null,
   "metadata": {
    "id": "lLbXonrh7A82",
    "colab": {
     "base_uri": "https://localhost:8080/"
    },
    "outputId": "26f50f55-f94e-44cb-b6d5-600aaa77ca6e"
   },
   "outputs": [],
   "source": [
    "print(len(association_results))"
   ]
  },
  {
   "cell_type": "markdown",
   "metadata": {
    "id": "mec87gmi7A82"
   },
   "source": [
    "The script above should return 32. Each item corresponds to one rule.\n",
    "\n",
    "Let's print the first item in the association_rules list to see the first rule. Execute the following script:\n",
    "\n",
    "The output should look like this:"
   ]
  },
  {
   "cell_type": "code",
   "execution_count": null,
   "metadata": {
    "id": "yIKpBZDM7A82",
    "colab": {
     "base_uri": "https://localhost:8080/"
    },
    "outputId": "8a105ee0-617a-4eca-fe64-d52832dffdf3"
   },
   "outputs": [],
   "source": [
    "print(association_results[0])"
   ]
  },
  {
   "cell_type": "markdown",
   "metadata": {
    "id": "34e9rCdD7A83"
   },
   "source": [
    "The first item in the list is a list itself containing three items. The first item of the list shows the movies in the rule.\n",
    "\n",
    "For instance from the first item, we can see that Red Sparrow and Green Lantern are commonly bought together.\n",
    "\n",
    "The support value for the first rule is 0.0057. This number is calculated by dividing the number of transactions containing Red Sparrow divided by total number of transactions. The confidence level for the rule is 0.3006 which shows that out of all the transactions that contain Red Sparrow, 30% of the transactions also contain Green Lantern. Finally, the lift of 3.79 tells us that Green Lantern is 3.79 times more likely to be bought by the customers who buy Red Sparrow compared to the default likelihood of the sale of Green Lantern."
   ]
  },
  {
   "cell_type": "markdown",
   "metadata": {
    "id": "TDXGAHud7A83"
   },
   "source": [
    "The following script displays the rule in a data frame in a much more legible way:"
   ]
  },
  {
   "cell_type": "code",
   "execution_count": null,
   "metadata": {
    "id": "MKfEy3GQ7A83",
    "colab": {
     "base_uri": "https://localhost:8080/"
    },
    "outputId": "4670c285-1adc-48ab-ebbd-0d5840a3121a"
   },
   "outputs": [],
   "source": [
    "results = []\n",
    "for item in association_results:\n",
    "    \n",
    "    # first index of the inner list\n",
    "    # Contains base item and add item\n",
    "    pair = item[0] \n",
    "    items = [x for x in pair]\n",
    "    \n",
    "    value0 = str(items[0])\n",
    "    value1 = str(items[1])\n",
    "\n",
    "    #second index of the inner list\n",
    "    value2 = str(item[1])[:7]\n",
    "\n",
    "    #third index of the list located at 0th\n",
    "    #of the third index of the inner list\n",
    "\n",
    "    value3 = str(item[2][0][2])[:7]\n",
    "    value4 = str(item[2][0][3])[:7]\n",
    "    \n",
    "    rows = (value0, value1,value2,value3,value4)\n",
    "    results.append(rows)\n",
    "    \n",
    "labels = ['Title 1','Title 2','Support','Confidence','Lift']\n",
    "movie_suggestion = pd.DataFrame.from_records(results, columns = labels)\n",
    "\n",
    "print(movie_suggestion)"
   ]
  },
  {
   "cell_type": "markdown",
   "metadata": {
    "id": "_hswTp2U7A83"
   },
   "source": [
    "Use this script if you want to output in Alteryx"
   ]
  },
  {
   "cell_type": "code",
   "execution_count": null,
   "metadata": {
    "id": "1QSqRkLz7A83"
   },
   "outputs": [],
   "source": [
    "\"\"\" ALTERYX\n",
    "title_data = Alteryx.read(\"#1\")\n",
    "\"\"\""
   ]
  },
  {
   "cell_type": "markdown",
   "metadata": {
    "id": "7LvLhEfD7A83"
   },
   "source": [
    "## Conclusion\n",
    "\n",
    "Association rule mining algorithms such as Apriori are very useful for finding simple associations between our data items. They are easy to implement and easy to explain. Google, Amazon, Netflix, Spotify use more complex algorithms for their recommendation engine."
   ]
  },
  {
   "cell_type": "code",
   "execution_count": null,
   "metadata": {
    "id": "B9V9RUAG7A83"
   },
   "outputs": [],
   "source": []
  },
  {
   "cell_type": "code",
   "execution_count": null,
   "metadata": {
    "id": "aU3uWHA67A83"
   },
   "outputs": [],
   "source": []
  }
 ],
 "metadata": {
  "kernelspec": {
   "display_name": "Python 3",
   "language": "python",
   "name": "python3"
  },
  "language_info": {
   "codemirror_mode": {
    "name": "ipython",
    "version": 3
   },
   "file_extension": ".py",
   "mimetype": "text/x-python",
   "name": "python",
   "nbconvert_exporter": "python",
   "pygments_lexer": "ipython3",
   "version": "3.7.0"
  },
  "colab": {
   "provenance": []
  }
 },
 "nbformat": 4,
 "nbformat_minor": 0
}
