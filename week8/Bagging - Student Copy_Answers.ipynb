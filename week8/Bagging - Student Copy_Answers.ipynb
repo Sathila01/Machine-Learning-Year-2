{
 "nbformat": 4,
 "nbformat_minor": 0,
 "metadata": {
  "colab": {
   "name": "SML_A4_q4.ipynb",
   "provenance": []
  },
  "kernelspec": {
   "name": "python3",
   "display_name": "Python 3"
  },
  "language_info": {
   "name": "python"
  }
 },
 "cells": [
  {
   "cell_type": "markdown",
   "source": [
    "# Importing important libraries"
   ],
   "metadata": {
    "id": "nK68QEUgE7BX"
   }
  },
  {
   "cell_type": "code",
   "execution_count": 29,
   "metadata": {
    "id": "CxKCDS12sjrt"
   },
   "outputs": [],
   "source": [
    "from sklearn.datasets import fetch_openml\n",
    "import matplotlib\n",
    "import matplotlib.pyplot as plt\n",
    "import numpy as np\n",
    "from sklearn.tree import DecisionTreeClassifier\n",
    "from sklearn.metrics import accuracy_score\n",
    "import seaborn as sns"
   ]
  },
  {
   "cell_type": "code",
   "source": [
    "mnist = fetch_openml('mnist_784')\n",
    "x, y = mnist['data'], mnist['target']"
   ],
   "metadata": {
    "id": "U6Mggw0HvP3p"
   },
   "execution_count": 30,
   "outputs": []
  },
  {
   "cell_type": "code",
   "source": [
    "x = np.array(x)\n",
    "y = np.array(y)"
   ],
   "metadata": {
    "id": "okoqAd87vn06"
   },
   "execution_count": 31,
   "outputs": []
  },
  {
   "cell_type": "code",
   "source": [
    "y = y.astype('int')"
   ],
   "metadata": {
    "id": "zgeVbXwGvvvD"
   },
   "execution_count": 32,
   "outputs": []
  },
  {
   "cell_type": "code",
   "source": [
    "x.shape"
   ],
   "metadata": {
    "colab": {
     "base_uri": "https://localhost:8080/"
    },
    "id": "WW84hvbi3hn9",
    "outputId": "d37418d8-52ab-4faf-f18c-3bd2b3989288"
   },
   "execution_count": 33,
   "outputs": [
    {
     "data": {
      "text/plain": "(70000, 784)"
     },
     "execution_count": 33,
     "metadata": {},
     "output_type": "execute_result"
    }
   ]
  },
  {
   "cell_type": "code",
   "source": [
    "y.shape"
   ],
   "metadata": {
    "colab": {
     "base_uri": "https://localhost:8080/"
    },
    "id": "zYYthgLy3hk_",
    "outputId": "4a45be9c-a16e-4e53-8303-2f33da12ac70"
   },
   "execution_count": 34,
   "outputs": [
    {
     "data": {
      "text/plain": "(70000,)"
     },
     "execution_count": 34,
     "metadata": {},
     "output_type": "execute_result"
    }
   ]
  },
  {
   "cell_type": "code",
   "source": [
    "x_train, x_test = x[:60000], x[60000:70000]\n",
    "y_train, y_test = y[:60000], y[60000:70000]"
   ],
   "metadata": {
    "id": "vZ2aLxfy38nr"
   },
   "execution_count": 35,
   "outputs": []
  },
  {
   "cell_type": "code",
   "source": [
    "x_train.shape"
   ],
   "metadata": {
    "colab": {
     "base_uri": "https://localhost:8080/"
    },
    "id": "ezQGH-v-4B5y",
    "outputId": "04169640-e414-46a3-8941-ce6a74ae6b30"
   },
   "execution_count": 36,
   "outputs": [
    {
     "data": {
      "text/plain": "(60000, 784)"
     },
     "execution_count": 36,
     "metadata": {},
     "output_type": "execute_result"
    }
   ]
  },
  {
   "cell_type": "code",
   "source": [
    "y_train.shape"
   ],
   "metadata": {
    "colab": {
     "base_uri": "https://localhost:8080/"
    },
    "id": "qZx2YKds4B2q",
    "outputId": "f3563ce4-43f2-4d6f-ffdd-f08b247f6e17"
   },
   "execution_count": 37,
   "outputs": [
    {
     "data": {
      "text/plain": "(60000,)"
     },
     "execution_count": 37,
     "metadata": {},
     "output_type": "execute_result"
    }
   ]
  },
  {
   "cell_type": "code",
   "source": [
    "y_test.shape"
   ],
   "metadata": {
    "colab": {
     "base_uri": "https://localhost:8080/"
    },
    "id": "zxbGbSiw4GbV",
    "outputId": "af0d6de9-c812-422d-d2ea-f898f8a9fe51"
   },
   "execution_count": 38,
   "outputs": [
    {
     "data": {
      "text/plain": "(10000,)"
     },
     "execution_count": 38,
     "metadata": {},
     "output_type": "execute_result"
    }
   ]
  },
  {
   "cell_type": "markdown",
   "source": [
    "# Data Visualisation"
   ],
   "metadata": {
    "id": "utIq_Und0U8O"
   }
  },
  {
   "cell_type": "code",
   "source": [
    "some_image = x[520]\n",
    "some_image = some_image.reshape(28,28)\n",
    "plt.imshow(some_image, cmap=matplotlib.cm.binary,interpolation='nearest')"
   ],
   "metadata": {
    "colab": {
     "base_uri": "https://localhost:8080/",
     "height": 282
    },
    "id": "gjZmndrz0SEt",
    "outputId": "808070e5-5977-4136-dcf9-f1754bdc3563"
   },
   "execution_count": 39,
   "outputs": [
    {
     "data": {
      "text/plain": "<matplotlib.image.AxesImage at 0x1fa7222ff10>"
     },
     "execution_count": 39,
     "metadata": {},
     "output_type": "execute_result"
    },
    {
     "data": {
      "text/plain": "<Figure size 640x480 with 1 Axes>",
      "image/png": "[encoded data removed]"
     },
     "metadata": {},
     "output_type": "display_data"
    }
   ]
  },
  {
   "cell_type": "code",
   "source": [
    "some_image = x[120]\n",
    "some_image = some_image.reshape(28,28)\n",
    "plt.imshow(some_image, cmap=matplotlib.cm.binary,interpolation='nearest')"
   ],
   "metadata": {
    "colab": {
     "base_uri": "https://localhost:8080/",
     "height": 282
    },
    "id": "xgKcJNP00YZU",
    "outputId": "050d3bd2-e993-4b2a-e3eb-998147dd2ea9"
   },
   "execution_count": 40,
   "outputs": [
    {
     "data": {
      "text/plain": "<matplotlib.image.AxesImage at 0x1fa721f1dc0>"
     },
     "execution_count": 40,
     "metadata": {},
     "output_type": "execute_result"
    },
    {
     "data": {
      "text/plain": "<Figure size 640x480 with 1 Axes>",
      "image/png": "[encoded data removed]"
     },
     "metadata": {},
     "output_type": "display_data"
    }
   ]
  },
  {
   "cell_type": "markdown",
   "source": [
    "# Bagging algorithm"
   ],
   "metadata": {
    "id": "kU2IFfFS1ehU"
   }
  },
  {
   "cell_type": "code",
   "source": [
    "def bagging():\n",
    "  \n",
    "  indexes = np.random.randint(0, len(x_train), len(x_train))\n",
    "  bag = x_train[indexes]\n",
    "  target = y_train[indexes]\n",
    "  return (bag,target)\n"
   ],
   "metadata": {
    "id": "6RKk6lZV1HTk"
   },
   "execution_count": 41,
   "outputs": []
  },
  {
   "cell_type": "markdown",
   "source": [
    "## Bag 1"
   ],
   "metadata": {
    "id": "oXckrRa_6e7L"
   }
  },
  {
   "cell_type": "code",
   "source": [
    "bag1 = bagging()\n",
    "print(bag1[0].shape,'\\n', bag1[1].shape)"
   ],
   "metadata": {
    "colab": {
     "base_uri": "https://localhost:8080/"
    },
    "id": "sj0pmTQz7u7o",
    "outputId": "5dc32c6b-fc03-4c11-bd19-dab3989ac3fd"
   },
   "execution_count": 42,
   "outputs": [
    {
     "name": "stdout",
     "output_type": "stream",
     "text": [
      "(60000, 784) \n",
      " (60000,)\n"
     ]
    }
   ]
  },
  {
   "cell_type": "code",
   "source": [
    "# Task 1: Train the Bag 1 using a Decision Tree Classifier DTC1\n",
    "dtc1 = DecisionTreeClassifier()\n",
    "dtc1.fit(bag1[0], bag1[1])"
   ],
   "metadata": {
    "colab": {
     "base_uri": "https://localhost:8080/"
    },
    "id": "QadeGdvP4pC9",
    "outputId": "644c3b30-98c4-4e8f-baf2-6a4db6ad4fe9"
   },
   "execution_count": 43,
   "outputs": [
    {
     "data": {
      "text/plain": "DecisionTreeClassifier()"
     },
     "execution_count": 43,
     "metadata": {},
     "output_type": "execute_result"
    }
   ]
  },
  {
   "cell_type": "markdown",
   "source": [
    "# Bag 2"
   ],
   "metadata": {
    "id": "gjCRpL628Ur_"
   }
  },
  {
   "cell_type": "code",
   "source": [
    "bag2 = bagging()\n",
    "print(bag2[0].shape,'\\n', bag2[1].shape)"
   ],
   "metadata": {
    "colab": {
     "base_uri": "https://localhost:8080/"
    },
    "id": "vfijcjev8UWr",
    "outputId": "2387e1dc-84e2-4faf-c42e-9843eb3f33a3"
   },
   "execution_count": 44,
   "outputs": [
    {
     "name": "stdout",
     "output_type": "stream",
     "text": [
      "(60000, 784) \n",
      " (60000,)\n"
     ]
    }
   ]
  },
  {
   "cell_type": "code",
   "source": [
    "# Task 2: Train the Bag 2 using a Decision Tree Classifier DTC2\n",
    "dtc2 = DecisionTreeClassifier()\n",
    "dtc2.fit(bag2[0], bag2[1])"
   ],
   "metadata": {
    "colab": {
     "base_uri": "https://localhost:8080/"
    },
    "id": "cH5lkjQz8pPV",
    "outputId": "8a60a953-4507-4497-f871-3cada6392b02"
   },
   "execution_count": 45,
   "outputs": [
    {
     "data": {
      "text/plain": "DecisionTreeClassifier()"
     },
     "execution_count": 45,
     "metadata": {},
     "output_type": "execute_result"
    }
   ]
  },
  {
   "cell_type": "markdown",
   "source": [
    "## Bag 3"
   ],
   "metadata": {
    "id": "WtoWe9si87Ir"
   }
  },
  {
   "cell_type": "code",
   "source": [
    "bag3 = bagging()\n",
    "print(bag3[0].shape,'\\n', bag3[1].shape)"
   ],
   "metadata": {
    "colab": {
     "base_uri": "https://localhost:8080/"
    },
    "id": "PHBYLjWC82TK",
    "outputId": "fea22953-35a5-4284-c9dc-e126ba68bb17"
   },
   "execution_count": 46,
   "outputs": [
    {
     "name": "stdout",
     "output_type": "stream",
     "text": [
      "(60000, 784) \n",
      " (60000,)\n"
     ]
    }
   ]
  },
  {
   "cell_type": "code",
   "source": [
    "# Task 3: Train the Bag 2 using a Decision Tree Classifier DTC3\n",
    "dtc3 = DecisionTreeClassifier()\n",
    "dtc3.fit(bag3[0], bag3[1])"
   ],
   "metadata": {
    "colab": {
     "base_uri": "https://localhost:8080/"
    },
    "id": "vuUL_aNV9CEs",
    "outputId": "33570980-57f5-4177-9166-1814af3c51f7"
   },
   "execution_count": 47,
   "outputs": [
    {
     "data": {
      "text/plain": "DecisionTreeClassifier()"
     },
     "execution_count": 47,
     "metadata": {},
     "output_type": "execute_result"
    }
   ]
  },
  {
   "cell_type": "markdown",
   "source": [
    "# Combining the result of all 3 classifiers"
   ],
   "metadata": {
    "id": "E0npdn9x-242"
   }
  },
  {
   "cell_type": "code",
   "source": [
    "pred_1 = dtc1.predict(x_test)\n",
    "pred_2 = dtc2.predict(x_test)\n",
    "pred_3 = dtc3.predict(x_test)"
   ],
   "metadata": {
    "id": "IJkIGP4y9Lzl"
   },
   "execution_count": 48,
   "outputs": []
  },
  {
   "cell_type": "markdown",
   "source": [
    "# Majority voting"
   ],
   "metadata": {
    "id": "_1SEZamrFEHD"
   }
  },
  {
   "cell_type": "code",
   "source": [
    "y_pred = []\n",
    "\n",
    "for i in range(len(x_test)):\n",
    "  \n",
    "  node = [pred_1[i], pred_2[i], pred_3[i]]\n",
    "  majority_vote = max( node , key = node.count)\n",
    "  y_pred.append(majority_vote)\n",
    "\n",
    "y_pred = np.array(y_pred)"
   ],
   "metadata": {
    "id": "bN1Lqbqj_3tl"
   },
   "execution_count": 49,
   "outputs": []
  },
  {
   "cell_type": "code",
   "source": [
    "y_pred.shape"
   ],
   "metadata": {
    "colab": {
     "base_uri": "https://localhost:8080/"
    },
    "id": "jnhM3PwpAuiQ",
    "outputId": "c72051dd-660f-43a8-e219-1ad54523c151"
   },
   "execution_count": 50,
   "outputs": [
    {
     "data": {
      "text/plain": "(10000,)"
     },
     "execution_count": 50,
     "metadata": {},
     "output_type": "execute_result"
    }
   ]
  },
  {
   "cell_type": "code",
   "source": [
    "y[:10]"
   ],
   "metadata": {
    "colab": {
     "base_uri": "https://localhost:8080/"
    },
    "id": "BydoAE0LA_QW",
    "outputId": "2b153f97-5465-46df-f68b-af2c278d1fab"
   },
   "execution_count": 51,
   "outputs": [
    {
     "data": {
      "text/plain": "array([5, 0, 4, 1, 9, 2, 1, 3, 1, 4])"
     },
     "execution_count": 51,
     "metadata": {},
     "output_type": "execute_result"
    }
   ]
  },
  {
   "cell_type": "code",
   "source": [
    "# Task 4: Obtain the accuracy\n",
    "accuracy = accuracy_score(y_test, y_pred)\n",
    "print('Bagging accuracy:', accuracy)"
   ],
   "metadata": {
    "colab": {
     "base_uri": "https://localhost:8080/"
    },
    "id": "F8h8zEpiBBII",
    "outputId": "e5bc0e2d-86d4-4334-c4a4-65e0e625eabd"
   },
   "execution_count": 52,
   "outputs": [
    {
     "name": "stdout",
     "output_type": "stream",
     "text": [
      "Bagging accuracy: 0.9084\n"
     ]
    }
   ]
  },
  {
   "cell_type": "markdown",
   "source": [
    "# Plotting the confusion matrix ,\n",
    "# confusion matrix gives the classwise accuracy"
   ],
   "metadata": {
    "id": "80rxQtGoEZ0c"
   }
  },
  {
   "cell_type": "code",
   "source": [
    "def plot_confusion_matrix(cm, classes=None, title='Confusion matrix'):\n",
    "    \"\"\"Plots a confusion matrix.\"\"\"\n",
    "    if classes is not None:\n",
    "        sns.heatmap(cm, cmap=\"YlGnBu\", xticklabels=classes, yticklabels=classes, vmin=0., vmax=1., annot=True, annot_kws={'size': 8})\n",
    "    else:\n",
    "        sns.heatmap(cm, vmin=0., vmax=1.)\n",
    "    plt.title(title)\n",
    "    plt.ylabel('True label')\n",
    "    plt.xlabel('Predicted label')"
   ],
   "metadata": {
    "id": "pCWOxieRED0a"
   },
   "execution_count": 53,
   "outputs": []
  },
  {
   "cell_type": "code",
   "source": [
    "from sklearn.metrics import r2_score, explained_variance_score, confusion_matrix, accuracy_score, classification_report\n",
    "# Task 5: Plot the confusion matrix\n",
    "cm = confusion_matrix(y_test, y_pred)\n",
    "plot_confusion_matrix(cm, classes=range(10))\n",
    "plt.show()"
   ],
   "metadata": {
    "colab": {
     "base_uri": "https://localhost:8080/",
     "height": 295
    },
    "id": "IUUpUguXEEp2",
    "outputId": "237545aa-c9f0-4f89-dd18-3e7031a40fc6"
   },
   "execution_count": 54,
   "outputs": [
    {
     "data": {
      "text/plain": "<Figure size 640x480 with 2 Axes>",
      "image/png": "[encoded data removed]"
     },
     "metadata": {},
     "output_type": "display_data"
    }
   ]
  }
 ]
}
