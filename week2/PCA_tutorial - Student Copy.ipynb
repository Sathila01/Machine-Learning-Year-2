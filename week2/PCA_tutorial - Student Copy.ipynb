{
 "cells": [
  {
   "cell_type": "markdown",
   "source": [
    "## 1. Import libraries"
   ],
   "metadata": {}
  },
  {
   "cell_type": "code",
   "execution_count": null,
   "source": [
    "import os, sys, numpy as np\n",
    "import matplotlib.pyplot as plt\n",
    "import numpy.random as rnd"
   ],
   "outputs": [],
   "metadata": {
    "pycharm": {
     "is_executing": true
    }
   }
  },
  {
   "cell_type": "markdown",
   "source": [
    "## 2. Create data"
   ],
   "metadata": {}
  },
  {
   "cell_type": "markdown",
   "source": [],
   "metadata": {
    "collapsed": false
   }
  },
  {
   "cell_type": "code",
   "execution_count": 3,
   "source": [
    "# N dimensional data\n",
    "ndim = 3\n",
    "mu = np.array([10] * ndim) # Mean\n",
    "sigma = np.zeros((ndim, ndim)) - 1.8 # Covariance\n",
    "np.fill_diagonal(sigma, 3.5) \n",
    "print(\"Mu \", mu.shape)\n",
    "print(\"Sigma \", sigma.shape)\n",
    "\n",
    "# Create 1000 samples using mean and sigma\n",
    "org_data = rnd.multivariate_normal(mu, sigma, size=(1000))\n",
    "print(\"Data shape \", org_data.shape)"
   ],
   "outputs": [
    {
     "name": "stdout",
     "output_type": "stream",
     "text": [
      "Mu  (3,)\n",
      "Sigma  (3, 3)\n",
      "Data shape  (1000, 3)\n"
     ]
    },
    {
     "name": "stderr",
     "output_type": "stream",
     "text": [
      "C:\\Users\\Softlogic\\AppData\\Local\\Temp\\ipykernel_25056\\4063850803.py:10: RuntimeWarning: covariance is not positive-semidefinite.\n",
      "  org_data = rnd.multivariate_normal(mu, sigma, size=(1000))\n"
     ]
    }
   ],
   "metadata": {}
  },
  {
   "cell_type": "markdown",
   "source": [
    "## 3. Mean centering"
   ],
   "metadata": {}
  },
  {
   "cell_type": "code",
   "execution_count": 5,
   "source": [
    "# Subtract mean from data\n",
    "mean = np.mean(org_data, axis= 0)\n",
    "print(\"Mean \", mean.shape)\n",
    "mean_data = org_data - mean\n",
    "print(\"Data after subtracting mean \", org_data.shape, \"\\n\")"
   ],
   "outputs": [
    {
     "name": "stdout",
     "output_type": "stream",
     "text": [
      "Mean  (3,)\n",
      "Data after subtracting mean  (1000, 3) \n",
      "\n"
     ]
    }
   ],
   "metadata": {}
  },
  {
   "cell_type": "markdown",
   "source": [
    "## 4. Compute covariance matrix"
   ],
   "metadata": {}
  },
  {
   "cell_type": "code",
   "execution_count": 6,
   "source": [
    "# Task 1: Compute the covariance matrix\n",
    "print(\"Covariance matrix \", cov.shape, \"\\n\")"
   ],
   "outputs": [
    {
     "ename": "NameError",
     "evalue": "name 'cov' is not defined",
     "output_type": "error",
     "traceback": [
      "\u001B[1;31m---------------------------------------------------------------------------\u001B[0m",
      "\u001B[1;31mNameError\u001B[0m                                 Traceback (most recent call last)",
      "\u001B[1;32m<ipython-input-6-6ddeb14dc9b1>\u001B[0m in \u001B[0;36m<module>\u001B[1;34m\u001B[0m\n\u001B[0;32m      1\u001B[0m \u001B[1;31m# Task 1: Compute the covariance matrix\u001B[0m\u001B[1;33m\u001B[0m\u001B[1;33m\u001B[0m\u001B[1;33m\u001B[0m\u001B[0m\n\u001B[1;32m----> 2\u001B[1;33m \u001B[0mprint\u001B[0m\u001B[1;33m(\u001B[0m\u001B[1;34m\"Covariance matrix \"\u001B[0m\u001B[1;33m,\u001B[0m \u001B[0mcov\u001B[0m\u001B[1;33m.\u001B[0m\u001B[0mshape\u001B[0m\u001B[1;33m,\u001B[0m \u001B[1;34m\"\\n\"\u001B[0m\u001B[1;33m)\u001B[0m\u001B[1;33m\u001B[0m\u001B[1;33m\u001B[0m\u001B[0m\n\u001B[0m",
      "\u001B[1;31mNameError\u001B[0m: name 'cov' is not defined"
     ]
    }
   ],
   "metadata": {}
  },
  {
   "cell_type": "markdown",
   "source": [
    "## 5. Perform eigen decomposition of covariance matrix"
   ],
   "metadata": {}
  },
  {
   "cell_type": "code",
   "execution_count": null,
   "source": [
    "# Task 2: Perform eigen decomposition of covariance matrix\n",
    "print(\"Eigen vectors \", eig_vec.shape)\n",
    "print(\"Eigen values \", eig_val.shape, \"\\n\")"
   ],
   "outputs": [],
   "metadata": {}
  },
  {
   "cell_type": "markdown",
   "source": [
    "## 6. Sort eigen vectors in descending order"
   ],
   "metadata": {}
  },
  {
   "cell_type": "code",
   "execution_count": null,
   "source": [
    "# Sort eigen values and corresponding eigen vectors in descending order\n",
    "indices = np.arange(0,len(eig_val), 1)\n",
    "indices = ([x for _,x in sorted(zip(eig_val, indices))])[::-1]\n",
    "eig_val = eig_val[indices]\n",
    "eig_vec = eig_vec[:,indices]\n",
    "print(\"Sorted Eigen vectors \", eig_vec.shape)\n",
    "print(\"Sorted Eigen values \", eig_val.shape, \"\\n\")"
   ],
   "outputs": [],
   "metadata": {}
  },
  {
   "cell_type": "markdown",
   "source": [
    "## 7. Compute explained variance and select N components"
   ],
   "metadata": {}
  },
  {
   "cell_type": "code",
   "execution_count": null,
   "source": [
    "# Task 3: Obtain the explained variance\n",
    "print(\"Explained variance \", explained_variance)\n",
    "cumulative_variance = np.cumsum(explained_variance)\n",
    "print(\"Cumulative variance \", cumulative_variance)\n",
    "\n",
    "# Plot explained variance\n",
    "plt.plot(np.arange(0, len(explained_variance), 1), cumulative_variance)\n",
    "plt.title(\"Explained variance vs number of components\")\n",
    "plt.xlabel(\"Number of components\")\n",
    "plt.ylabel(\"Explained variance\")\n",
    "plt.show()\n",
    "\n",
    "## We will 2 components\n",
    "n_comp = 2\n",
    "eig_vec = eig_vec[:,:n_comp]\n",
    "print(eig_vec.shape)"
   ],
   "outputs": [],
   "metadata": {}
  },
  {
   "cell_type": "markdown",
   "source": [
    "## 8. Project data"
   ],
   "metadata": {}
  },
  {
   "cell_type": "code",
   "execution_count": null,
   "source": [
    "# Take transpose of eigen vectors with data\n",
    "pca_data = mean_data.dot(eig_vec)\n",
    "print(\"Transformed data \", pca_data.shape)"
   ],
   "outputs": [],
   "metadata": {}
  },
  {
   "cell_type": "code",
   "execution_count": null,
   "source": [
    "# Plot data\n",
    "\n",
    "fig, ax = plt.subplots(1,3, figsize= (15,15))\n",
    "# Plot original data\n",
    "ax[0].scatter(org_data[:,0], org_data[:,1], color='blue', marker='.')\n",
    "\n",
    "# Plot data after subtracting mean from data\n",
    "ax[1].scatter(mean_data[:,0], mean_data[:,1], color='red', marker='.')\n",
    "\n",
    "# Plot data after subtracting mean from data\n",
    "ax[2].scatter(pca_data[:,0], pca_data[:,1], color='red', marker='.')\n",
    "\n",
    "# Set title\n",
    "ax[0].set_title(\"Scatter plot of original data\")\n",
    "ax[1].set_title(\"Scatter plot of data after subtracting mean\")\n",
    "ax[2].set_title(\"Scatter plot of transformed data\")\n",
    "\n",
    "# Set x ticks\n",
    "ax[0].set_xticks(np.arange(-8, 1, 8))\n",
    "ax[1].set_xticks(np.arange(-8, 1, 8))\n",
    "ax[2].set_xticks(np.arange(-8, 1, 8))\n",
    "\n",
    "# Set grid to 'on'\n",
    "ax[0].grid('on')\n",
    "ax[1].grid('on')\n",
    "ax[2].grid('on')\n",
    "\n",
    "major_axis = eig_vec[:,0].flatten()\n",
    "xmin = np.amin(pca_data[:,0])\n",
    "xmax = np.amax(pca_data[:,0])\n",
    "ymin = np.amin(pca_data[:,1])\n",
    "ymax = np.amax(pca_data[:,1])\n",
    "\n",
    "plt.show()\n",
    "plt.close('all')"
   ],
   "outputs": [],
   "metadata": {}
  },
  {
   "cell_type": "markdown",
   "source": [
    "## 9. Invert PCA/ Reconstruct data from N components"
   ],
   "metadata": {}
  },
  {
   "cell_type": "code",
   "execution_count": null,
   "source": [
    "# Task 4: Reverse PCA transformation\n",
    "print(recon_data.shape)"
   ],
   "outputs": [],
   "metadata": {}
  },
  {
   "cell_type": "code",
   "execution_count": null,
   "source": [
    "\n",
    "# Plot reconstructed data\n",
    "\n",
    "fig, ax = plt.subplots(1,3, figsize= (15, 15))\n",
    "ax[0].scatter(org_data[:,0], org_data[:,1], color='blue', marker='.')\n",
    "ax[1].scatter(mean_data[:,0], mean_data[:,1], color='red', marker='.')\n",
    "ax[2].scatter(recon_data[:,0], recon_data[:,1], color='red', marker='.')\n",
    "ax[0].set_title(\"Scatter plot of original data\")\n",
    "ax[1].set_title(\"Scatter plot of data after subtracting mean\")\n",
    "ax[2].set_title(\"Scatter plot of reconstructed data\")\n",
    "ax[0].grid('on')\n",
    "ax[1].grid('on')\n",
    "ax[2].grid('on')\n",
    "plt.show()"
   ],
   "outputs": [],
   "metadata": {}
  },
  {
   "cell_type": "markdown",
   "source": [
    "## 10. Reconstruction loss "
   ],
   "metadata": {}
  },
  {
   "cell_type": "code",
   "execution_count": null,
   "source": [
    "# Task 5: Compute reconstruction loss\n",
    "print(\"Reconstruction loss \", loss)"
   ],
   "outputs": [],
   "metadata": {}
  },
  {
   "cell_type": "code",
   "execution_count": null,
   "outputs": [],
   "source": [],
   "metadata": {
    "collapsed": false
   }
  },
  {
   "cell_type": "code",
   "execution_count": null,
   "outputs": [],
   "source": [],
   "metadata": {
    "collapsed": false
   }
  }
 ],
 "metadata": {
  "orig_nbformat": 4,
  "language_info": {
   "name": "python",
   "version": "3.7.3",
   "mimetype": "text/x-python",
   "codemirror_mode": {
    "name": "ipython",
    "version": 3
   },
   "pygments_lexer": "ipython3",
   "nbconvert_exporter": "python",
   "file_extension": ".py"
  },
  "kernelspec": {
   "name": "python3",
   "display_name": "Python 3.7.3 64-bit ('venv': virtualenv)"
  },
  "interpreter": {
   "hash": "dbf7d7ba969fea670556e34320a8dbd791f4a0b676401b69b3b6b6884aebe3e2"
  }
 },
 "nbformat": 4,
 "nbformat_minor": 2
}
